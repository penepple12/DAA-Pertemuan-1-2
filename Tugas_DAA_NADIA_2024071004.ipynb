{
  "nbformat": 4,
  "nbformat_minor": 0,
  "metadata": {
    "colab": {
      "provenance": []
    },
    "kernelspec": {
      "name": "python3",
      "display_name": "Python 3"
    },
    "language_info": {
      "name": "python"
    }
  },
  "cells": [
    {
      "cell_type": "markdown",
      "source": [
        "TUGAS DAA\n",
        "NADIA 2024071004"
      ],
      "metadata": {
        "id": "6jgcO3905hwA"
      }
    },
    {
      "cell_type": "code",
      "execution_count": null,
      "metadata": {
        "colab": {
          "base_uri": "https://localhost:8080/"
        },
        "id": "hmgZcYon5c3G",
        "outputId": "b4e40240-fbb6-4a5c-d366-1aff6f0c0bd0"
      },
      "outputs": [
        {
          "output_type": "stream",
          "name": "stdout",
          "text": [
            "(8, 2)\n"
          ]
        }
      ],
      "source": [
        "# Algoritma Mencari Nilai Maksimum & Minimum\n",
        "def max_min(arr):\n",
        "    mx, mn = arr[0], arr[0]\n",
        "    for x in arr[1:]:\n",
        "        if x > mx: mx = x\n",
        "        if x < mn: mn = x\n",
        "    return mx, mn\n",
        "data = [3, 5, 2, 8, 6]\n",
        "print(max_min(data))"
      ]
    },
    {
      "cell_type": "code",
      "source": [
        "# Algoritma Jumlah & Rata-Rata\n",
        "def sum_avg(arr):\n",
        "    s = 0\n",
        "    for x in arr: s += x\n",
        "    return s, s/len(arr)\n",
        "print(sum_avg([3,5,2,8,6]))"
      ],
      "metadata": {
        "colab": {
          "base_uri": "https://localhost:8080/"
        },
        "id": "C0Kwlzfw7Jvf",
        "outputId": "3d8b1a43-e43e-4028-e2dc-608852cb8530"
      },
      "execution_count": null,
      "outputs": [
        {
          "output_type": "stream",
          "name": "stdout",
          "text": [
            "(24, 4.8)\n"
          ]
        }
      ]
    },
    {
      "cell_type": "code",
      "source": [
        "# Linear Search\n",
        "def linear_search(arr, target):\n",
        "    for i, x in enumerate(arr):\n",
        "        if x == target:\n",
        "            return i\n",
        "    return -1\n",
        "print(linear_search([7,1,9,4], 9))"
      ],
      "metadata": {
        "colab": {
          "base_uri": "https://localhost:8080/"
        },
        "id": "7O3iFQ9z7YXe",
        "outputId": "2a287088-a40f-4c0c-f36c-ec4422a203e2"
      },
      "execution_count": null,
      "outputs": [
        {
          "output_type": "stream",
          "name": "stdout",
          "text": [
            "2\n"
          ]
        }
      ]
    },
    {
      "cell_type": "code",
      "source": [
        "# Binary Search\n",
        "def binary_search(arr, target):\n",
        "    l, r = 0, len(arr)-1\n",
        "    while l <= r:\n",
        "        m = (l+r)//2\n",
        "        if arr[m] == target: return m\n",
        "        if arr[m] < target: l = m+1\n",
        "        else: r = m-1\n",
        "    return -1\n",
        "print(binary_search([1,3,5,7,9], 7))"
      ],
      "metadata": {
        "colab": {
          "base_uri": "https://localhost:8080/"
        },
        "id": "d3cARyGC7pB-",
        "outputId": "5c039c74-6179-41e3-f63d-736a2f7b51ec"
      },
      "execution_count": null,
      "outputs": [
        {
          "output_type": "stream",
          "name": "stdout",
          "text": [
            "3\n"
          ]
        }
      ]
    },
    {
      "cell_type": "code",
      "source": [
        "# Cek Bilangan Prima\n",
        "def is_prime(n):\n",
        "    if n < 2: return False\n",
        "    i = 2\n",
        "    while i*i <= n:\n",
        "        if n % i == 0: return False\n",
        "        i += 1\n",
        "    return True\n",
        "print([ (x, is_prime(x)) for x in [2,3,4,17,20,23]\n",
        "])"
      ],
      "metadata": {
        "colab": {
          "base_uri": "https://localhost:8080/"
        },
        "id": "aLoRfIR4-1jk",
        "outputId": "d6659e00-34a0-4753-8694-dada00c84331"
      },
      "execution_count": null,
      "outputs": [
        {
          "output_type": "stream",
          "name": "stdout",
          "text": [
            "[(2, True), (3, True), (4, False), (17, True), (20, False), (23, True)]\n"
          ]
        }
      ]
    },
    {
      "cell_type": "code",
      "source": [
        "# Sieve of Eratosthenes\n",
        "def sieve(n):\n",
        "    prime = [True]*(n+1)\n",
        "    prime[:2] = [False, False]\n",
        "    p = 2\n",
        "    while p*p <= n:\n",
        "      if prime[p]:\n",
        "          for m in range(p*p, n+1, p):\n",
        "              prime[m] = False\n",
        "      p += 1\n",
        "    return [i for i, v in enumerate(prime) if v]\n",
        "print(sieve(30))"
      ],
      "metadata": {
        "colab": {
          "base_uri": "https://localhost:8080/"
        },
        "id": "Oo0lbWZh_Ntf",
        "outputId": "bbce0bfe-6362-4d43-871f-2c80d318a0c6"
      },
      "execution_count": null,
      "outputs": [
        {
          "output_type": "stream",
          "name": "stdout",
          "text": [
            "[2, 3, 5, 7, 11, 13, 17, 19, 23, 29]\n"
          ]
        }
      ]
    },
    {
      "cell_type": "code",
      "source": [
        "# Faktorial (Iteratif)\n",
        "def factorial(n):\n",
        "    res = 1\n",
        "    for i in range(2, n+1): res *= i\n",
        "    return res\n",
        "print(factorial(5))"
      ],
      "metadata": {
        "colab": {
          "base_uri": "https://localhost:8080/"
        },
        "id": "tUjtTQczAaLJ",
        "outputId": "653aaea6-39c7-4474-c7e1-ab9d0b83f37c"
      },
      "execution_count": null,
      "outputs": [
        {
          "output_type": "stream",
          "name": "stdout",
          "text": [
            "120\n"
          ]
        }
      ]
    },
    {
      "cell_type": "code",
      "source": [
        "# Fibonacci (Iteratif)\n",
        "def fib(n):\n",
        "    if n <= 1: return n\n",
        "    a, b = 0, 1\n",
        "    for _ in range(2, n+1):\n",
        "        a, b = b, a+b\n",
        "    return b\n",
        "print([fib(i) for i in range(10)])"
      ],
      "metadata": {
        "colab": {
          "base_uri": "https://localhost:8080/"
        },
        "id": "mmhlcRZhBheD",
        "outputId": "aa1bd870-9874-440e-e4b3-c7bfcb0e3703"
      },
      "execution_count": null,
      "outputs": [
        {
          "output_type": "stream",
          "name": "stdout",
          "text": [
            "[0, 1, 1, 2, 3, 5, 8, 13, 21, 34]\n"
          ]
        }
      ]
    },
    {
      "cell_type": "code",
      "source": [
        "# Palindrome String\n",
        "def is_palindrome(s):\n",
        "    l, r = 0, len(s)-1\n",
        "    while l < r:\n",
        "        if s[l] != s[r]: return False\n",
        "        l += 1; r -= 1\n",
        "    return True\n",
        "print(is_palindrome(\"level\"))\n",
        "print(is_palindrome(\"hello\"))"
      ],
      "metadata": {
        "colab": {
          "base_uri": "https://localhost:8080/"
        },
        "id": "njtA7cNFBsN_",
        "outputId": "a529001e-d388-436c-c944-5abe43348883"
      },
      "execution_count": null,
      "outputs": [
        {
          "output_type": "stream",
          "name": "stdout",
          "text": [
            "True\n",
            "False\n"
          ]
        }
      ]
    },
    {
      "cell_type": "code",
      "source": [
        "# Hitung Frekuensi Elemen\n",
        "def freq_map(arr):\n",
        "    f = {}\n",
        "    for x in arr:\n",
        "        f[x] = f.get(x, 0) + 1\n",
        "    return f\n",
        "print(freq_map([\"a\",\"b\",\"a\",\"c\",\"b\",\"a\"]))"
      ],
      "metadata": {
        "colab": {
          "base_uri": "https://localhost:8080/"
        },
        "id": "95MYTp0dCDt2",
        "outputId": "eb877a3c-195d-49e0-86fd-ab1cbdc9b5e7"
      },
      "execution_count": null,
      "outputs": [
        {
          "output_type": "stream",
          "name": "stdout",
          "text": [
            "{'a': 3, 'b': 2, 'c': 1}\n"
          ]
        }
      ]
    },
    {
      "cell_type": "code",
      "source": [
        "# Nilai Kedua Terbesar\n",
        "def second_largest(arr):\n",
        "    first = second = float(\"-inf\")\n",
        "    for x in arr:\n",
        "        if x > first:\n",
        "            first, second = x, first\n",
        "        elif first > x > second:\n",
        "            second = x\n",
        "    return second\n",
        "print(second_largest([3,9,1,7,9,5]))"
      ],
      "metadata": {
        "colab": {
          "base_uri": "https://localhost:8080/"
        },
        "id": "9B21Fa3MCNkP",
        "outputId": "8c756b78-0d11-485c-bead-270d6fe2c3c0"
      },
      "execution_count": null,
      "outputs": [
        {
          "output_type": "stream",
          "name": "stdout",
          "text": [
            "7\n"
          ]
        }
      ]
    },
    {
      "cell_type": "code",
      "source": [
        "# Membalik List/String\n",
        "def reverse_list(a):\n",
        "    l, r = 0, len(a)-1\n",
        "    while l < r:\n",
        "        a[l], a[r] = a[r], a[l]\n",
        "        l += 1; r -= 1\n",
        "    return a\n",
        "print(reverse_list([1,2,3,4,5]))\n",
        "print(\"hello\"[::-1])"
      ],
      "metadata": {
        "colab": {
          "base_uri": "https://localhost:8080/"
        },
        "id": "STHrGj-sCz3u",
        "outputId": "a9de73c6-741a-4e81-b02b-a35d155fd06c"
      },
      "execution_count": null,
      "outputs": [
        {
          "output_type": "stream",
          "name": "stdout",
          "text": [
            "[5, 4, 3, 2, 1]\n",
            "olleh\n"
          ]
        }
      ]
    }
  ]
}