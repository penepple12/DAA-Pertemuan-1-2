{
  "nbformat": 4,
  "nbformat_minor": 0,
  "metadata": {
    "colab": {
      "provenance": []
    },
    "kernelspec": {
      "name": "python3",
      "display_name": "Python 3"
    },
    "language_info": {
      "name": "python"
    }
  },
  "cells": [
    {
      "cell_type": "code",
      "source": [
        "import numpy as np\n",
        "a = [1,2,3]\n",
        "b = [4,5,6]\n",
        "hasil = a + b\n",
        "print(hasil)"
      ],
      "metadata": {
        "colab": {
          "base_uri": "https://localhost:8080/"
        },
        "id": "bF9oJfmyZ-1n",
        "outputId": "1e88ad33-7388-4c99-9030-32293a2d74d5"
      },
      "execution_count": null,
      "outputs": [
        {
          "output_type": "stream",
          "name": "stdout",
          "text": [
            "[1, 2, 3, 4, 5, 6]\n"
          ]
        }
      ]
    },
    {
      "cell_type": "code",
      "source": [
        "def add(list_a, list_b):\n",
        "  result = []\n",
        "  x = 0\n",
        "  for first, second in zip(list_a,list_b):\n",
        "    result.append(first + second)\n",
        "  for i in result:\n",
        "    x+=i\n",
        "  return x\n",
        "print(add(a,b))"
      ],
      "metadata": {
        "colab": {
          "base_uri": "https://localhost:8080/"
        },
        "id": "adsF7f8naE20",
        "outputId": "7f78eb08-2ffc-43f6-b38a-3dff35b1c55f"
      },
      "execution_count": null,
      "outputs": [
        {
          "output_type": "stream",
          "name": "stdout",
          "text": [
            "21\n"
          ]
        }
      ]
    },
    {
      "cell_type": "code",
      "execution_count": null,
      "metadata": {
        "colab": {
          "base_uri": "https://localhost:8080/"
        },
        "id": "w_Nc0e24tDbD",
        "outputId": "66f3cd4f-7da9-441c-9928-36ce5da34d39"
      },
      "outputs": [
        {
          "output_type": "stream",
          "name": "stdout",
          "text": [
            "90\n"
          ]
        }
      ],
      "source": [
        "import numpy as np\n",
        "nilai_siswa = np.array([85, 55, 40, 90])\n",
        "print(nilai_siswa[3])"
      ]
    },
    {
      "cell_type": "code",
      "source": [
        "import numpy as np\n",
        "print(np.__version__)"
      ],
      "metadata": {
        "colab": {
          "base_uri": "https://localhost:8080/"
        },
        "id": "5XPnPKUhwy8g",
        "outputId": "6ddbd7e0-558a-44ff-e0ff-c457e38672f3"
      },
      "execution_count": null,
      "outputs": [
        {
          "output_type": "stream",
          "name": "stdout",
          "text": [
            "2.0.2\n"
          ]
        }
      ]
    },
    {
      "cell_type": "code",
      "source": [
        "nama = input(\"Masukkan nama: \")\n",
        "nim = input(\"Masukkan NIM: \")\n",
        "print(\"Hello, World\")\n",
        "print(\"Nama saya\", nama)\n",
        "print(\"NIM saya\", nim)"
      ],
      "metadata": {
        "colab": {
          "base_uri": "https://localhost:8080/"
        },
        "id": "AEiOfj9M0IvO",
        "outputId": "80280941-7b8a-477a-b9f7-1bec86b2d746"
      },
      "execution_count": null,
      "outputs": [
        {
          "output_type": "stream",
          "name": "stdout",
          "text": [
            "Masukkan nama: nadia\n",
            "Masukkan NIM: 2024071004\n",
            "Hello, World\n",
            "Nama saya nadia\n",
            "NIM saya 2024071004\n"
          ]
        }
      ]
    },
    {
      "cell_type": "code",
      "source": [
        "if 5>2:\n",
        "  print(\"Five is greater than two!\")"
      ],
      "metadata": {
        "colab": {
          "base_uri": "https://localhost:8080/"
        },
        "id": "xhj4BBI20YNJ",
        "outputId": "c563cbb4-c0d0-4c4b-a17e-9ada2148a042"
      },
      "execution_count": null,
      "outputs": [
        {
          "output_type": "stream",
          "name": "stdout",
          "text": [
            "Five is greater than two!\n"
          ]
        }
      ]
    },
    {
      "cell_type": "code",
      "source": [
        "x = 5\n",
        "y = \"John\"\n",
        "print(x)\n",
        "print(y)"
      ],
      "metadata": {
        "colab": {
          "base_uri": "https://localhost:8080/"
        },
        "id": "K9P-Ll_W3Lvj",
        "outputId": "d15d8587-c239-4930-ec29-d6eaf90ba884"
      },
      "execution_count": null,
      "outputs": [
        {
          "output_type": "stream",
          "name": "stdout",
          "text": [
            "5\n",
            "John\n"
          ]
        }
      ]
    },
    {
      "cell_type": "code",
      "source": [
        "x = 4\n",
        "y = \"Sally\"\n",
        "print(x)"
      ],
      "metadata": {
        "colab": {
          "base_uri": "https://localhost:8080/"
        },
        "id": "4QSKoPtN3Ulp",
        "outputId": "23569e61-266e-46a5-b5a4-6592ac5863a2"
      },
      "execution_count": null,
      "outputs": [
        {
          "output_type": "stream",
          "name": "stdout",
          "text": [
            "4\n"
          ]
        }
      ]
    },
    {
      "cell_type": "code",
      "source": [
        "def getFirst(myList):\n",
        "  return(myList[0])\n",
        "getFirst([1,2,3])"
      ],
      "metadata": {
        "colab": {
          "base_uri": "https://localhost:8080/"
        },
        "id": "OvDUOmmY3cF9",
        "outputId": "f7113467-3891-4823-b8a4-b898745ee106"
      },
      "execution_count": null,
      "outputs": [
        {
          "output_type": "execute_result",
          "data": {
            "text/plain": [
              "1"
            ]
          },
          "metadata": {},
          "execution_count": 8
        }
      ]
    },
    {
      "cell_type": "markdown",
      "source": [
        "Get Last"
      ],
      "metadata": {
        "id": "eZP9MJSPTS_b"
      }
    },
    {
      "cell_type": "code",
      "source": [
        "my_list = [1, 2, 3]\n",
        "panjang_list = len(my_list)\n",
        "print(panjang_list)\n",
        "\n",
        "get_last = my_list[len(my_list)-1]\n",
        "print(get_last)"
      ],
      "metadata": {
        "colab": {
          "base_uri": "https://localhost:8080/"
        },
        "id": "A7XyN3_d3-pa",
        "outputId": "cffa57cd-151e-451f-a877-a84125738c51"
      },
      "execution_count": null,
      "outputs": [
        {
          "output_type": "stream",
          "name": "stdout",
          "text": [
            "3\n",
            "3\n"
          ]
        }
      ]
    },
    {
      "cell_type": "code",
      "source": [
        "Get First\n"
      ],
      "metadata": {
        "id": "NeJqx8qwTP8W"
      },
      "execution_count": null,
      "outputs": []
    },
    {
      "cell_type": "code",
      "source": [
        "getFirst([1,2,3,4,5,6,7,8,9])"
      ],
      "metadata": {
        "colab": {
          "base_uri": "https://localhost:8080/"
        },
        "id": "ljhQnVt34FV3",
        "outputId": "e8f3125d-6c03-4c20-c842-69865525e4bc"
      },
      "execution_count": null,
      "outputs": [
        {
          "output_type": "execute_result",
          "data": {
            "text/plain": [
              "1"
            ]
          },
          "metadata": {},
          "execution_count": 10
        }
      ]
    },
    {
      "cell_type": "markdown",
      "source": [
        "Get Second"
      ],
      "metadata": {
        "id": "tuZe64GfTJlF"
      }
    },
    {
      "cell_type": "code",
      "source": [
        "def getSecond(my_list):\n",
        "  return(my_list[1])\n",
        "getSecond([1,2,3])"
      ],
      "metadata": {
        "colab": {
          "base_uri": "https://localhost:8080/"
        },
        "id": "dsmha2IT4LoF",
        "outputId": "97026145-5e61-4ec2-9e17-19bf7463157a"
      },
      "execution_count": null,
      "outputs": [
        {
          "output_type": "execute_result",
          "data": {
            "text/plain": [
              "2"
            ]
          },
          "metadata": {},
          "execution_count": 1
        }
      ]
    },
    {
      "cell_type": "markdown",
      "source": [
        "Get Last"
      ],
      "metadata": {
        "id": "cciDqiD4TMbG"
      }
    },
    {
      "cell_type": "code",
      "source": [
        "def getLast(a):\n",
        "    return a[len(a)-1]\n",
        "list=[7,2,3,5,10]\n",
        "getLast(list)"
      ],
      "metadata": {
        "colab": {
          "base_uri": "https://localhost:8080/"
        },
        "id": "oVbEL18aTAQI",
        "outputId": "2c3b5875-4cbf-4f1e-d83f-5519b2d9fa4a"
      },
      "execution_count": null,
      "outputs": [
        {
          "output_type": "execute_result",
          "data": {
            "text/plain": [
              "10"
            ]
          },
          "metadata": {},
          "execution_count": 3
        }
      ]
    },
    {
      "cell_type": "code",
      "source": [
        "def getSum(myList):\n",
        "  #variable sum\n",
        "  sum = 0\n",
        "  for item in myList:\n",
        "    sum = sum+item\n",
        "  return sum\n",
        "getSum([1,2,3])\n",
        "\n",
        "#sum = 0\n",
        "#sum ditambah oleh item yang ada pada myList\n",
        "# 0+1+2+3\n",
        "# hasilnya 6"
      ],
      "metadata": {
        "colab": {
          "base_uri": "https://localhost:8080/"
        },
        "id": "j7Ex4DJkUimJ",
        "outputId": "83e10361-a21d-4b1b-9af4-a26c64b0096f"
      },
      "execution_count": null,
      "outputs": [
        {
          "output_type": "execute_result",
          "data": {
            "text/plain": [
              "6"
            ]
          },
          "metadata": {},
          "execution_count": 4
        }
      ]
    },
    {
      "cell_type": "code",
      "source": [
        "def getSubstract(myList):\n",
        "  #variable substract\n",
        "  substract = 0\n",
        "  for item in myList:\n",
        "    substract = substract-item\n",
        "  return substract\n",
        "getSubstract([1,2,3])\n",
        "\n",
        "#substract = 0\n",
        "#substract dikurangi oleh item yang ada pada myList\n",
        "# 0-1-2-3\n",
        "# hasilnya -6"
      ],
      "metadata": {
        "colab": {
          "base_uri": "https://localhost:8080/"
        },
        "id": "YMSfM7aBUk7l",
        "outputId": "2916ea2e-87ca-48d1-fd8e-33ff7dcb7f4e"
      },
      "execution_count": null,
      "outputs": [
        {
          "output_type": "execute_result",
          "data": {
            "text/plain": [
              "-6"
            ]
          },
          "metadata": {},
          "execution_count": 5
        }
      ]
    },
    {
      "cell_type": "code",
      "source": [
        "def getMultiply(myList):\n",
        "  #variable multiply\n",
        "  multiply = 1\n",
        "  for item in myList:\n",
        "    multiply = multiply*item\n",
        "  return multiply\n",
        "getMultiply([1,2,3,4,5])\n",
        "\n",
        "#multiply = 1\n",
        "#multiply dikali oleh item yang ada pada myList\n",
        "# 1x1x2x3x4x5\n",
        "# hasilnya 120"
      ],
      "metadata": {
        "colab": {
          "base_uri": "https://localhost:8080/"
        },
        "id": "FETnnaaYUpQp",
        "outputId": "a772e91f-e21d-4ab5-f904-bc44cab6a674"
      },
      "execution_count": null,
      "outputs": [
        {
          "output_type": "execute_result",
          "data": {
            "text/plain": [
              "120"
            ]
          },
          "metadata": {},
          "execution_count": 6
        }
      ]
    },
    {
      "cell_type": "code",
      "source": [
        "def getDivide(myList):\n",
        "  #variable divide\n",
        "  divide = 1\n",
        "  for item in myList:\n",
        "    divide = divide/item\n",
        "  return divide\n",
        "getDivide([1,2,5])\n",
        "\n",
        "#divide = 1\n",
        "#divide dibagi oleh item yang ada pada myList\n",
        "# 1/1/2/5\n",
        "# hasilnya 0.1"
      ],
      "metadata": {
        "colab": {
          "base_uri": "https://localhost:8080/"
        },
        "id": "ifm2KiDCUtTG",
        "outputId": "a6c7ac32-0ae5-4e4a-dc3b-5b1be6340cb8"
      },
      "execution_count": null,
      "outputs": [
        {
          "output_type": "execute_result",
          "data": {
            "text/plain": [
              "0.1"
            ]
          },
          "metadata": {},
          "execution_count": 7
        }
      ]
    },
    {
      "cell_type": "code",
      "source": [
        "def getSumHimpunan(myList):\n",
        "  sum = 0\n",
        "  for row in myList:\n",
        "    for item in row:\n",
        "      sum += item\n",
        "  return sum\n",
        "getSumHimpunan([[1,2,3],[10,20,30]])\n",
        "\n",
        "#sum = 0\n",
        "#sum ditambah oleh item setiap list\n",
        "#list 1 berjumlah 6\n",
        "#list 2 berjumlah 60\n",
        "# 0+6+60\n",
        "# 66"
      ],
      "metadata": {
        "colab": {
          "base_uri": "https://localhost:8080/"
        },
        "id": "zcbQ_UHxUxDM",
        "outputId": "4609f3f4-ed02-49cc-f6b6-448af63b58c4"
      },
      "execution_count": null,
      "outputs": [
        {
          "output_type": "execute_result",
          "data": {
            "text/plain": [
              "66"
            ]
          },
          "metadata": {},
          "execution_count": 8
        }
      ]
    },
    {
      "cell_type": "code",
      "source": [
        "def getDivideHimpunan(myList):\n",
        "    results = []\n",
        "    for row in myList:\n",
        "        divide = row[0]\n",
        "        for item in row[1:]:\n",
        "            divide = divide / item\n",
        "        results.append(divide)\n",
        "\n",
        "    final = results[0]\n",
        "    for val in results[1:]:\n",
        "        final = final / val\n",
        "    return final\n",
        "\n",
        "getDivideHimpunan([[1,1,1],[1,2,5]])\n",
        "\n",
        "#divide = row/list 1\n",
        "#nilai divide akan dibagi oleh row selanjutnya / row 2\n",
        "#List 1 berjumlah 1\n",
        "#list 2 berjumlah 0.1\n",
        "# 1/0.1\n",
        "# 10"
      ],
      "metadata": {
        "colab": {
          "base_uri": "https://localhost:8080/"
        },
        "id": "97-Rma2tUwKm",
        "outputId": "1552dbe8-21f7-483a-f6e9-3e70fd33af85"
      },
      "execution_count": null,
      "outputs": [
        {
          "output_type": "execute_result",
          "data": {
            "text/plain": [
              "10.0"
            ]
          },
          "metadata": {},
          "execution_count": 9
        }
      ]
    },
    {
      "cell_type": "code",
      "source": [
        "def getSubstractHimpunan(myList):\n",
        "    results = []\n",
        "    for row in myList:\n",
        "        sub = row[0]\n",
        "        for item in row[1:]:\n",
        "            sub -= item\n",
        "        results.append(sub)\n",
        "\n",
        "    result = results[0]\n",
        "    for val in results[1:]:\n",
        "        result -= val\n",
        "    return result\n",
        "\n",
        "getSubstractHimpunan([[1,2,3],[10,20,30]])\n",
        "\n",
        "#list 1 berjumlah 1-2-3 = -4\n",
        "#list 2 berjumlah 10-20-30 = -40\n",
        "# list1-list2\n",
        "# -4-(-40)\n",
        "# 36"
      ],
      "metadata": {
        "id": "keyYGZPLU1eS",
        "outputId": "1663fb04-ffd4-4651-d14c-362e957a7a9c",
        "colab": {
          "base_uri": "https://localhost:8080/"
        }
      },
      "execution_count": 4,
      "outputs": [
        {
          "output_type": "execute_result",
          "data": {
            "text/plain": [
              "36"
            ]
          },
          "metadata": {},
          "execution_count": 4
        }
      ]
    },
    {
      "cell_type": "code",
      "source": [
        "def searchBinary(myList, item):\n",
        "    first = 0\n",
        "    last = len(myList) - 1\n",
        "    foundFlag = False\n",
        "\n",
        "    while first <= last and not foundFlag:\n",
        "        mid = (first + last) // 2\n",
        "        if myList[mid] == item:\n",
        "            foundFlag = True\n",
        "        else:\n",
        "            if item < myList[mid]:\n",
        "                last = mid - 1\n",
        "            else:\n",
        "                first = mid + 1\n",
        "    return foundFlag\n",
        "print(searchBinary([8, 9, 10, 100, 1000, 2000, 3000], 10))\n",
        "print(searchBinary([8, 9, 10, 100, 1000, 2000, 3000], 5))"
      ],
      "metadata": {
        "colab": {
          "base_uri": "https://localhost:8080/"
        },
        "id": "jWk5Y7KWcw-F",
        "outputId": "6eb7555d-da17-43d5-f440-d8ce449c675b"
      },
      "execution_count": 5,
      "outputs": [
        {
          "output_type": "stream",
          "name": "stdout",
          "text": [
            "True\n",
            "False\n"
          ]
        }
      ]
    },
    {
      "cell_type": "markdown",
      "source": [],
      "metadata": {
        "id": "amo4WrF7Ukb4"
      }
    },
    {
      "cell_type": "markdown",
      "source": [],
      "metadata": {
        "id": "RTjBa9XlTjHX"
      }
    }
  ]
}